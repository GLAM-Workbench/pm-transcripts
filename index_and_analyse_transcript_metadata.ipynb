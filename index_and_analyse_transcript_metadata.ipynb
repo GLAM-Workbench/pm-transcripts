{
 "cells": [
  {
   "cell_type": "markdown",
   "metadata": {},
   "source": [
    "# Create an index to the harvested files\n",
    "\n",
    "The XML files contain embedded metadata that includes the name of the prime minister, and the title and date of the transcript. This notebook extracts that metadata from the harvested files and creates a CSV formatted spreadsheet for easy analysis. It also demonstrates some ways of summarising and visualising the metadata."
   ]
  },
  {
   "cell_type": "code",
   "execution_count": 113,
   "metadata": {},
   "outputs": [
    {
     "data": {
      "text/plain": [
       "DataTransformerRegistry.enable('json')"
      ]
     },
     "execution_count": 113,
     "metadata": {},
     "output_type": "execute_result"
    }
   ],
   "source": [
    "import os\n",
    "from bs4 import BeautifulSoup\n",
    "import arrow\n",
    "import pandas as pd\n",
    "import altair as alt\n",
    "\n",
    "# Set up Altair\n",
    "#alt.renderers.enable('notebook')\n",
    "alt.renderers.enable('default')\n",
    "alt.data_transformers.enable('json')"
   ]
  },
  {
   "cell_type": "markdown",
   "metadata": {},
   "source": [
    "## Extract the metadata as save as a CSV"
   ]
  },
  {
   "cell_type": "code",
   "execution_count": 114,
   "metadata": {},
   "outputs": [],
   "source": [
    "def get_tag(soup, tag):\n",
    "    '''\n",
    "    Given some Soup, find the specified tag and return its value.\n",
    "    '''\n",
    "    try:\n",
    "        value = soup.find(tag).string.strip()\n",
    "    except AttributeError:\n",
    "        value = ''\n",
    "    return value\n",
    "\n",
    "# Create a list to put the metadata in\n",
    "all_details = []\n",
    "\n",
    "# Get the file names of all the harvested files\n",
    "files = [f for f in os.listdir('transcripts') if f[-4:] == '.xml']\n",
    "\n",
    "# Loop through the harvested files\n",
    "for filename in files:\n",
    "    \n",
    "    # Open the file\n",
    "    with open(os.path.join('transcripts', filename), 'rb') as xml_file:\n",
    "        \n",
    "        # Create a dict to put this file's metadata in\n",
    "        details = {}\n",
    "        \n",
    "        # Load the file contents into Soup and then get the desired tags\n",
    "        soup = BeautifulSoup(xml_file.read())\n",
    "        details['id'] = get_tag(soup, 'transcript-id')\n",
    "        details['title'] = get_tag(soup, 'title')\n",
    "        details['pm'] = get_tag(soup, 'prime-minister')\n",
    "        \n",
    "        # We're going to reformat the date into the ISO standard, so first get the value\n",
    "        release_date = get_tag(soup, 'release-date')\n",
    "        try:\n",
    "            # Then try to parse the date and reformat as ISO\n",
    "            iso_date = arrow.get(release_date, 'DD/MM/YYYY').format('YYYY-MM-DD')\n",
    "        except:\n",
    "            # If something goes wrong...\n",
    "            iso_date = ''\n",
    "        details['date'] = iso_date\n",
    "        details['release_type'] = get_tag(soup, 'release-type')\n",
    "        details['subjects'] = get_tag(soup, 'subjects')\n",
    "        details['pdf'] = get_tag(soup, 'document')\n",
    "        \n",
    "        # Add the metadata for this file to the list\n",
    "        all_details.append(details)\n",
    "        "
   ]
  },
  {
   "cell_type": "code",
   "execution_count": 115,
   "metadata": {},
   "outputs": [
    {
     "data": {
      "text/html": [
       "<div>\n",
       "<style scoped>\n",
       "    .dataframe tbody tr th:only-of-type {\n",
       "        vertical-align: middle;\n",
       "    }\n",
       "\n",
       "    .dataframe tbody tr th {\n",
       "        vertical-align: top;\n",
       "    }\n",
       "\n",
       "    .dataframe thead th {\n",
       "        text-align: right;\n",
       "    }\n",
       "</style>\n",
       "<table border=\"1\" class=\"dataframe\">\n",
       "  <thead>\n",
       "    <tr style=\"text-align: right;\">\n",
       "      <th></th>\n",
       "      <th>date</th>\n",
       "      <th>id</th>\n",
       "      <th>pdf</th>\n",
       "      <th>pm</th>\n",
       "      <th>release_type</th>\n",
       "      <th>subjects</th>\n",
       "      <th>title</th>\n",
       "    </tr>\n",
       "  </thead>\n",
       "  <tbody>\n",
       "    <tr>\n",
       "      <th>0</th>\n",
       "      <td>2014-08-24</td>\n",
       "      <td>23765</td>\n",
       "      <td></td>\n",
       "      <td>Abbott, Tony</td>\n",
       "      <td>Media Release</td>\n",
       "      <td></td>\n",
       "      <td>A message from the Prime Minister - Building a...</td>\n",
       "    </tr>\n",
       "    <tr>\n",
       "      <th>1</th>\n",
       "      <td>1968-03-14</td>\n",
       "      <td>1797</td>\n",
       "      <td>https://pmtranscripts.pmc.gov.au/sites/default...</td>\n",
       "      <td>Gorton, John</td>\n",
       "      <td>Statement in Parliament</td>\n",
       "      <td></td>\n",
       "      <td>STATEMENT BY THE PRIME MINISTER THE RT.HON. JO...</td>\n",
       "    </tr>\n",
       "    <tr>\n",
       "      <th>2</th>\n",
       "      <td>2016-11-17</td>\n",
       "      <td>40598</td>\n",
       "      <td></td>\n",
       "      <td>Turnbull, Malcolm</td>\n",
       "      <td>Transcript</td>\n",
       "      <td></td>\n",
       "      <td>Press Conference at the launch of the Veterans...</td>\n",
       "    </tr>\n",
       "    <tr>\n",
       "      <th>3</th>\n",
       "      <td>1978-09-27</td>\n",
       "      <td>4837</td>\n",
       "      <td>https://pmtranscripts.pmc.gov.au/sites/default...</td>\n",
       "      <td>Fraser, Malcolm</td>\n",
       "      <td>Media Release</td>\n",
       "      <td></td>\n",
       "      <td>GRANT TO WORLD WILDLIFE FUND AUSTRALIA</td>\n",
       "    </tr>\n",
       "    <tr>\n",
       "      <th>4</th>\n",
       "      <td>2004-03-24</td>\n",
       "      <td>21172</td>\n",
       "      <td></td>\n",
       "      <td>Howard, John</td>\n",
       "      <td>Interview</td>\n",
       "      <td></td>\n",
       "      <td>Doorstop Interview Great Hall, Parliament Hous...</td>\n",
       "    </tr>\n",
       "  </tbody>\n",
       "</table>\n",
       "</div>"
      ],
      "text/plain": [
       "         date     id                                                pdf  \\\n",
       "0  2014-08-24  23765                                                      \n",
       "1  1968-03-14   1797  https://pmtranscripts.pmc.gov.au/sites/default...   \n",
       "2  2016-11-17  40598                                                      \n",
       "3  1978-09-27   4837  https://pmtranscripts.pmc.gov.au/sites/default...   \n",
       "4  2004-03-24  21172                                                      \n",
       "\n",
       "                  pm             release_type subjects  \\\n",
       "0       Abbott, Tony            Media Release            \n",
       "1       Gorton, John  Statement in Parliament            \n",
       "2  Turnbull, Malcolm               Transcript            \n",
       "3    Fraser, Malcolm            Media Release            \n",
       "4       Howard, John                Interview            \n",
       "\n",
       "                                               title  \n",
       "0  A message from the Prime Minister - Building a...  \n",
       "1  STATEMENT BY THE PRIME MINISTER THE RT.HON. JO...  \n",
       "2  Press Conference at the launch of the Veterans...  \n",
       "3             GRANT TO WORLD WILDLIFE FUND AUSTRALIA  \n",
       "4  Doorstop Interview Great Hall, Parliament Hous...  "
      ]
     },
     "execution_count": 115,
     "metadata": {},
     "output_type": "execute_result"
    }
   ],
   "source": [
    "# Convert the metadata to a Pandas dataframe\n",
    "df = pd.DataFrame(all_details)\n",
    "df.head()"
   ]
  },
  {
   "cell_type": "markdown",
   "metadata": {},
   "source": [
    "Save the index as a CSV formatted file."
   ]
  },
  {
   "cell_type": "code",
   "execution_count": 116,
   "metadata": {},
   "outputs": [],
   "source": [
    "# Save the metadata as a CSV file\n",
    "df.to_csv('index.csv', index=False)"
   ]
  },
  {
   "cell_type": "markdown",
   "metadata": {},
   "source": [
    "## Analyse the metadata"
   ]
  },
  {
   "cell_type": "code",
   "execution_count": 117,
   "metadata": {},
   "outputs": [],
   "source": [
    "# This loads the metadata from the CSV\n",
    "# This is not necessary if you've just generated the df\n",
    "df = pd.read_csv('index.csv', keep_default_na=False)"
   ]
  },
  {
   "cell_type": "markdown",
   "metadata": {},
   "source": [
    "Let's have a look at the number of transcripts for each Prime Minister."
   ]
  },
  {
   "cell_type": "code",
   "execution_count": 118,
   "metadata": {},
   "outputs": [
    {
     "data": {
      "text/plain": [
       "Howard, John         5865\n",
       "Hawke, Robert        2321\n",
       "Fraser, Malcolm      2081\n",
       "Gillard, Julia       2072\n",
       "Turnbull, Malcolm    1751\n",
       "Rudd, Kevin          1735\n",
       "Keating, Paul        1582\n",
       "Abbott, Tony         1371\n",
       "Whitlam, Gough       1238\n",
       "Menzies, Robert      1212\n",
       "Gorton, John          625\n",
       "Holt, Harold          507\n",
       "McMahon, William      349\n",
       "                       74\n",
       "McEwen, John           16\n",
       "Chifley, Ben           11\n",
       "Curtin, John            4\n",
       "Name: pm, dtype: int64"
      ]
     },
     "execution_count": 118,
     "metadata": {},
     "output_type": "execute_result"
    }
   ],
   "source": [
    "df['pm'].value_counts()"
   ]
  },
  {
   "cell_type": "markdown",
   "metadata": {},
   "source": [
    "Note that there are 73 transcripts that have no Prime Minister associated with them. We'll exclude those and chart the rest."
   ]
  },
  {
   "cell_type": "code",
   "execution_count": 112,
   "metadata": {},
   "outputs": [
    {
     "data": {
      "application/vnd.vegalite.v3+json": {
       "$schema": "https://vega.github.io/schema/vega-lite/v3.3.0.json",
       "config": {
        "mark": {
         "tooltip": null
        },
        "view": {
         "height": 300,
         "width": 400
        }
       },
       "data": {
        "format": {
         "type": "json"
        },
        "url": "altair-data-0ba1949a5a2c65b3f935386ca3001725.json"
       },
       "encoding": {
        "tooltip": [
         {
          "field": "pm",
          "title": "Prime Minister",
          "type": "nominal"
         },
         {
          "aggregate": "count",
          "title": "Transcripts",
          "type": "quantitative"
         }
        ],
        "x": {
         "aggregate": "count",
         "title": "Number of transcripts",
         "type": "quantitative"
        },
        "y": {
         "field": "pm",
         "title": "Prime Minister",
         "type": "nominal"
        }
       },
       "mark": "bar"
      },
      "image/png": "[encoded data removed]",
      "text/plain": [
       "<VegaLite 3 object>\n",
       "\n",
       "If you see this message, it means the renderer has not been properly enabled\n",
       "for the frontend that you are using. For more information, see\n",
       "https://altair-viz.github.io/user_guide/troubleshooting.html\n"
      ]
     },
     "execution_count": 112,
     "metadata": {},
     "output_type": "execute_result"
    }
   ],
   "source": [
    "# We're exlusing those transcripts where the 'pm' value is empty - df.loc[df['pm'] != '']\n",
    "alt.Chart(df.loc[df['pm'] != '']).mark_bar().encode(\n",
    "    \n",
    "    # Show number of transcripts on X axis\n",
    "    x=alt.X('count():Q', title='Number of transcripts'),\n",
    "    \n",
    "    # Show the name of the PM on the Y axis\n",
    "    y=alt.Y('pm:N', title='Prime Minister'),\n",
    "    \n",
    "    # Show details when you hover\n",
    "    tooltip=[alt.Tooltip('pm:N', title='Prime Minister'), alt.Tooltip('count():Q', title='Transcripts')]\n",
    ")"
   ]
  },
  {
   "cell_type": "markdown",
   "metadata": {},
   "source": [
    "Let's have a look at the number of transcripts over time."
   ]
  },
  {
   "cell_type": "code",
   "execution_count": 119,
   "metadata": {},
   "outputs": [
    {
     "data": {
      "application/vnd.vegalite.v3+json": {
       "$schema": "https://vega.github.io/schema/vega-lite/v3.3.0.json",
       "config": {
        "mark": {
         "tooltip": null
        },
        "view": {
         "height": 300,
         "width": 400
        }
       },
       "data": {
        "format": {
         "type": "json"
        },
        "url": "altair-data-28af24a284e76a9802eefdb965305e5c.json"
       },
       "encoding": {
        "color": {
         "field": "pm",
         "legend": {
          "title": "Prime Minister"
         },
         "scale": {
          "scheme": "tableau20"
         },
         "type": "nominal"
        },
        "tooltip": [
         {
          "field": "pm",
          "title": "Prime Minister",
          "type": "nominal"
         },
         {
          "field": "date",
          "timeUnit": "year",
          "title": "Year",
          "type": "temporal"
         },
         {
          "aggregate": "count",
          "title": "Transcripts",
          "type": "quantitative"
         }
        ],
        "x": {
         "field": "date",
         "timeUnit": "year",
         "title": "Year",
         "type": "temporal"
        },
        "y": {
         "aggregate": "count",
         "title": "Number of transcripts",
         "type": "quantitative"
        }
       },
       "mark": {
        "size": 6,
        "type": "bar"
       },
       "width": 700
      },
      "image/png": "[encoded data removed]",
      "text/plain": [
       "<VegaLite 3 object>\n",
       "\n",
       "If you see this message, it means the renderer has not been properly enabled\n",
       "for the frontend that you are using. For more information, see\n",
       "https://altair-viz.github.io/user_guide/troubleshooting.html\n"
      ]
     },
     "execution_count": 119,
     "metadata": {},
     "output_type": "execute_result"
    }
   ],
   "source": [
    "alt.Chart(df.loc[df['pm'] != '']).mark_bar(size=6).encode(\n",
    "    \n",
    "    # Year on the X axis\n",
    "    x=alt.X('year(date):T', title='Year'),\n",
    "    \n",
    "    # Number of transcripts on the Y axis\n",
    "    y=alt.Y('count():Q', title='Number of transcripts'),\n",
    "    \n",
    "    # Color denotes the PM (names will be in the legend)\n",
    "    color=alt.Color('pm:N', scale=alt.Scale(scheme='tableau20'), legend=alt.Legend(title='Prime Minister')),\n",
    "    \n",
    "    # Show details on hover\n",
    "    tooltip=[alt.Tooltip('pm:N', title='Prime Minister'), alt.Tooltip('year(date):T', title='Year'), alt.Tooltip('count():Q', title='Transcripts')]\n",
    ").properties(width=700)"
   ]
  },
  {
   "cell_type": "markdown",
   "metadata": {},
   "source": [
    "## Release types and subjects\n",
    "\n",
    "The `release_type` field should tell us what sort of text this transcript represents – interview, media release, etc. Let's see how it's used."
   ]
  },
  {
   "cell_type": "code",
   "execution_count": 96,
   "metadata": {},
   "outputs": [
    {
     "data": {
      "text/plain": [
       "Media Release                            8686\n",
       "Interview                                5352\n",
       "Speech                                   4988\n",
       "Transcript                               1746\n",
       "Press Conference                          745\n",
       "Statement in Parliament                   341\n",
       "Video Transcript                          233\n",
       "Correspondence                            131\n",
       "Broadcast                                 111\n",
       "                                           62\n",
       "Message                                    54\n",
       "Index                                      47\n",
       "Statement                                  44\n",
       "Doorstop                                   41\n",
       "Government                                 36\n",
       "Foreign Affairs                            16\n",
       "Economy & Finance                          14\n",
       "Education                                  14\n",
       "Arts, Culture & Sport                      13\n",
       "Environment                                12\n",
       "Health                                     12\n",
       "Communique                                 10\n",
       "Letter                                     10\n",
       "Business & Industry                         9\n",
       "Article                                     9\n",
       "Defence                                     8\n",
       "Website Updates                             7\n",
       "Blog Transcript                             6\n",
       "Remarks                                     5\n",
       "Security, Law and Justice                   5\n",
       "Honours, Commemorations & Condolences       5\n",
       "Press Statement                             4\n",
       "Report                                      3\n",
       "Chat Transcript                             3\n",
       "Joint Statement                             3\n",
       "Indigenous Affairs                          3\n",
       "Immigration                                 2\n",
       "Foreword                                    2\n",
       "Employment                                  2\n",
       "Emergency Management                        2\n",
       "Trade                                       2\n",
       "Energy Efficiency                           1\n",
       "Programme                                   1\n",
       "Regional Australia                          1\n",
       "Budget                                      1\n",
       "?                                           1\n",
       "Communications                              1\n",
       "Agriculture                                 1\n",
       "Digital Economy                             1\n",
       "Broadband                                   1\n",
       "Memo                                        1\n",
       "Climate Change                              1\n",
       "Workplace Relations                         1\n",
       "School Education                            1\n",
       "Financial Services                          1\n",
       "Social Services                             1\n",
       "Infrastructure & Transport                  1\n",
       "Name: release_type, dtype: int64"
      ]
     },
     "execution_count": 96,
     "metadata": {},
     "output_type": "execute_result"
    }
   ],
   "source": [
    "df['release_type'].value_counts()"
   ]
  },
  {
   "cell_type": "markdown",
   "metadata": {},
   "source": [
    "Hmmm, so it looks like there's not a lot of control over the values in this field – is a 'Press Statement' the same as a 'Media Release'? It also looks like some subjects have been incorrectly entered here.\n",
    "\n",
    "By combining `groupby()` and `value_counts()` it's easy to look at the release types for each PM."
   ]
  },
  {
   "cell_type": "code",
   "execution_count": 76,
   "metadata": {},
   "outputs": [
    {
     "data": {
      "text/plain": [
       "pm                 release_type           \n",
       "                   Interview                    39\n",
       "                   Media Release                14\n",
       "                   Speech                       13\n",
       "                                                 5\n",
       "                   Doorstop                      1\n",
       "                   Press Conference              1\n",
       "Abbott, Tony       Transcript                  620\n",
       "                   Media Release               450\n",
       "                   Speech                      245\n",
       "                                                41\n",
       "                   Remarks                       5\n",
       "                   Interview                     2\n",
       "                   Press Conference              2\n",
       "                   Press Statement               2\n",
       "                   Statement                     2\n",
       "                   Doorstop                      1\n",
       "                   Message                       1\n",
       "Chifley, Ben       Speech                       11\n",
       "Curtin, John       Speech                        4\n",
       "Fraser, Malcolm    Media Release              1303\n",
       "                   Speech                      446\n",
       "                   Interview                   183\n",
       "                   Statement in Parliament      53\n",
       "                   Correspondence               51\n",
       "                   Press Conference             42\n",
       "                   ?                             1\n",
       "                   Communique                    1\n",
       "                   Report                        1\n",
       "Gillard, Julia     Media Release               842\n",
       "                   Interview                   589\n",
       "                                              ... \n",
       "Menzies, Robert    Article                       8\n",
       "                   Foreword                      2\n",
       "                   Correspondence                1\n",
       "                   Memo                          1\n",
       "                   Programme                     1\n",
       "Rudd, Kevin        Interview                   697\n",
       "                   Media Release               604\n",
       "                   Speech                      329\n",
       "                   Video Transcript             74\n",
       "                   Doorstop                      9\n",
       "                   Website Updates               7\n",
       "                   Blog Transcript               6\n",
       "                   Press Conference              6\n",
       "                   Chat Transcript               3\n",
       "Turnbull, Malcolm  Transcript                 1124\n",
       "                   Media Release               550\n",
       "                   Speech                       65\n",
       "                                                12\n",
       "                   Press Statement               1\n",
       "Whitlam, Gough     Media Release               790\n",
       "                   Speech                      245\n",
       "                   Press Conference             89\n",
       "                   Broadcast                    49\n",
       "                   Interview                    32\n",
       "                   Statement in Parliament      21\n",
       "                   Statement                     7\n",
       "                   Communique                    2\n",
       "                   Article                       1\n",
       "                   Message                       1\n",
       "                   Report                        1\n",
       "Name: release_type, Length: 163, dtype: int64"
      ]
     },
     "execution_count": 76,
     "metadata": {},
     "output_type": "execute_result"
    }
   ],
   "source": [
    "df.groupby('pm')['release_type'].value_counts()"
   ]
  },
  {
   "cell_type": "markdown",
   "metadata": {},
   "source": [
    "Because the `release_type` field is a bit of a mess, let's get the top ten release types and visualise them for each PM."
   ]
  },
  {
   "cell_type": "code",
   "execution_count": 94,
   "metadata": {},
   "outputs": [],
   "source": [
    "# The index returned by value_counts() are the names of the release types, so we can convert to a list and slice off the first 10.\n",
    "top_ten_types = df.loc[df['release_type'] != '']['release_type'].value_counts().index.to_list()[:10]"
   ]
  },
  {
   "cell_type": "code",
   "execution_count": 95,
   "metadata": {},
   "outputs": [
    {
     "data": {
      "application/vnd.vegalite.v3+json": {
       "$schema": "https://vega.github.io/schema/vega-lite/v3.3.0.json",
       "config": {
        "mark": {
         "tooltip": null
        },
        "view": {
         "height": 300,
         "width": 400
        }
       },
       "data": {
        "format": {
         "type": "json"
        },
        "url": "altair-data-8e49ca325c838a6668260240326f0fbf.json"
       },
       "encoding": {
        "color": {
         "field": "release_type",
         "type": "nominal"
        },
        "x": {
         "aggregate": "count",
         "type": "quantitative"
        },
        "y": {
         "field": "pm",
         "type": "nominal"
        }
       },
       "mark": "bar"
      },
      "image/png": "[encoded data removed]",
      "text/plain": [
       "<VegaLite 3 object>\n",
       "\n",
       "If you see this message, it means the renderer has not been properly enabled\n",
       "for the frontend that you are using. For more information, see\n",
       "https://altair-viz.github.io/user_guide/troubleshooting.html\n"
      ]
     },
     "execution_count": 95,
     "metadata": {},
     "output_type": "execute_result"
    }
   ],
   "source": [
    "# We're exluding those transcripts where the 'pm' value is empty - df.loc[df['pm'] != '']\n",
    "alt.Chart(df.loc[(df['pm'] != '') & (df['release_type'].isin(top_ten_types))]).mark_bar().encode(\n",
    "    x='count():Q',\n",
    "    y='pm:N',\n",
    "    color='release_type:N'\n",
    ")"
   ]
  },
  {
   "cell_type": "code",
   "execution_count": 99,
   "metadata": {},
   "outputs": [
    {
     "data": {
      "text/plain": [
       "(1122, 7)"
      ]
     },
     "execution_count": 99,
     "metadata": {},
     "output_type": "execute_result"
    }
   ],
   "source": [
    "df.loc[df['subjects'] != ''].shape"
   ]
  },
  {
   "cell_type": "code",
   "execution_count": 101,
   "metadata": {},
   "outputs": [
    {
     "data": {
      "text/plain": [
       "1036"
      ]
     },
     "execution_count": 101,
     "metadata": {},
     "output_type": "execute_result"
    }
   ],
   "source": [
    "len(pd.unique(df['subjects']))"
   ]
  },
  {
   "cell_type": "code",
   "execution_count": 98,
   "metadata": {},
   "outputs": [
    {
     "data": {
      "text/plain": [
       "                                                                                                                                                                                                                                                                                                                21692\n",
       "Same-sex marriage                                                                                                                                                                                                                                                                                                  14\n",
       "Budget 2014.                                                                                                                                                                                                                                                                                                       14\n",
       "East Timor                                                                                                                                                                                                                                                                                                         13\n",
       "Bali tragedy                                                                                                                                                                                                                                                                                                        7\n",
       "Budget 2014                                                                                                                                                                                                                                                                                                         5\n",
       "National Energy Guarantee                                                                                                                                                                                                                                                                                           5\n",
       "Bali tragedy.                                                                                                                                                                                                                                                                                                       4\n",
       "Same sex marriage                                                                                                                                                                                                                                                                                                   3\n",
       "Malaysia Airlines tragedy.                                                                                                                                                                                                                                                                                          3\n",
       "Citizenship                                                                                                                                                                                                                                                                                                         3\n",
       "Federal Budget                                                                                                                                                                                                                                                                                                      3\n",
       "Australian Defence Force contribution to international coalition against ISIL,  visit to Arnhem Land,  constitutional recognition for the first Australians.                                                                                                                                                        3\n",
       "Malaysia Airlines tragedy                                                                                                                                                                                                                                                                                           3\n",
       "Meeting of the Council of Australian Governments.                                                                                                                                                                                                                                                                   2\n",
       "G20 volunteer launch,  G20 Summit,  Malaysia Airlines flight MH17,  World infrastructure hub,  ACOSS report,  school curriculum,  Ebola,  Chinaâs coal tariff,  Brisbane transport video.                                                                                                                         2\n",
       "Anzac Day commemorations.                                                                                                                                                                                                                                                                                           2\n",
       "Qantas.                                                                                                                                                                                                                                                                                                             2\n",
       "G20                                                                                                                                                                                                                                                                                                                 2\n",
       "Same-sex marriage survey                                                                                                                                                                                                                                                                                            2\n",
       "Zimbabwe                                                                                                                                                                                                                                                                                                            2\n",
       "Malaysia Airlines Flight MH17.                                                                                                                                                                                                                                                                                      2\n",
       "Budget 2015.                                                                                                                                                                                                                                                                                                        2\n",
       "Victorian infrastructure, sentencing, same-sex marriage                                                                                                                                                                                                                                                             2\n",
       "International supply mission to Iraq                                                                                                                                                                                                                                                                                2\n",
       "Malaysia Airlines Flight MH17                                                                                                                                                                                                                                                                                       2\n",
       "The Budget                                                                                                                                                                                                                                                                                                          2\n",
       "Malaysia Airlines Flight MH17,  Operation Sovereign Borders.                                                                                                                                                                                                                                                        2\n",
       "Budget 2015                                                                                                                                                                                                                                                                                                         2\n",
       "Joint Counter Terrorism Team Operation.                                                                                                                                                                                                                                                                             2\n",
       "                                                                                                                                                                                                                                                                                                                ...  \n",
       "Deployment of Australian troops to East Timor                                                                                                                                                                                                                                                                       1\n",
       "Prime Ministerâs visit to the Torres Strait,  constitutional recognition for the first Australians,  income tax.                                                                                                                                                                                                  1\n",
       "Official opening of the Devondale Murray Goulburn Dairy Beverages Centre,  China-Australia Free Trade Agreement negotiations,  new Senate,  Operation Sovereign Borders,  Competition Policy Review, Commonwealth Bank Review.                                                                                      1\n",
       "Visit to the USA,  Iraq,  direct action plan to reduce carbon emissions,  Socceroosâ World Cup campaign.                                                                                                                                                                                                          1\n",
       "Mark Waugh; trade links                                                                                                                                                                                                                                                                                             1\n",
       "Energy prices, airport security, terrorist attacks in Indonesia, 2018 Federal Budget, immigration, pre-selections, protests in Gaza and the Royal Wedding                                                                                                                                                           1\n",
       "Terrorist Attack in Turkey                                                                                                                                                                                                                                                                                          1\n",
       "Jobs, economic growth, trade, Labor failure                                                                                                                                                                                                                                                                         1\n",
       "Great Barrier Reef announcement; National Energy Guarantee                                                                                                                                                                                                                                                          1\n",
       "Same-sex marriage; 2018; Citizenship; Nationals                                                                                                                                                                                                                                                                     1\n",
       "New South Wales bushfires,  disaster recovery payments.                                                                                                                                                                                                                                                             1\n",
       "the Federal Governmentâs commitment to grow small business,  the Australian automotive industry,  the Federal Governmentâs commitment to repeal the carbon tax,  intelligence agencies,  Operation Sovereign Borders,  live cattle exports,  parliamentary entitlemen                                           1\n",
       "Grand Gateway Exchange opens ahead of schedule,  Syrian humanitarian crisis,  Canning by-election,  Andrew Hastie,  domestic violence.                                                                                                                                                                              1\n",
       "Company tax cuts; Electricity Prices; Leadership                                                                                                                                                                                                                                                                    1\n",
       "Royal Flying Doctor Service; Regional health; Water management; Indigenous incarceration rates                                                                                                                                                                                                                      1\n",
       "East Timor, Steve Pratt and Peter Wallace, Branko Jelen, Defence capabilty, China and Taiwan relations, Olympic tickets, Driza-bone, Austudy, memorial for Reverend John Flynn, defence spending, Victoria election, buy Australia campaign, business tax reform, republic referendum, Rafter at the US Open        1\n",
       "Referendum result; Preamble result.                                                                                                                                                                                                                                                                                 1\n",
       "Antarctic icebreaker                                                                                                                                                                                                                                                                                                1\n",
       "the Federal Governmentâs commitment to repeal the carbon tax,  Laborâs debt legacy,  Operation Sovereign Borders,  Indonesia.                                                                                                                                                                                   1\n",
       "Knights of the Order of Australia,  the Governmentâs plans for 2015,  Death of His Royal Highness King Abdullah bin Abdulaziz al-Saud of the Kingdom of Saudi Arabia.                                                                                                                                             1\n",
       "Export deals; Defence Industry; Australian jobs; Banks; Polls                                                                                                                                                                                                                                                       1\n",
       "Economy, Jobs, Growth, Trade,                                                                                                                                                                                                                                                                                       1\n",
       "People smuggling cooperation with Sri Lanka,  CHOGM,  Productivity Commission Inquiry to focus on more flexible, affordable and accessible child care,  GrainCorp.                                                                                                                                                  1\n",
       "Australian Cyber Security Centre; delivering lower energy prices for families and businesses; wages growth; business tax cuts                                                                                                                                                                                       1\n",
       "Great Barrier Reef; water policy; back to school                                                                                                                                                                                                                                                                    1\n",
       "East Asia Summit 2013,  Australia-Japan relationship,  Trans-Pacific Partnership,  minor parties,  entitlements.                                                                                                                                                                                                    1\n",
       "Stronger economy,  Maurice Newman,  resources,  Operation Sovereign Borders,  superannuation,  housing sector,  IPCCâs report,  university places,  Parliamentary sittings,  minor parties.                                                                                                                       1\n",
       "Funding agreement to fast-track construction of WestConnex,  building the roads of the 21st century for New South Wales,  Budget 2014.                                                                                                                                                                              1\n",
       "School funding; Higher education funding; GST distribution                                                                                                                                                                                                                                                          1\n",
       "Senator Fraser Anning                                                                                                                                                                                                                                                                                               1\n",
       "Name: subjects, Length: 1036, dtype: int64"
      ]
     },
     "execution_count": 98,
     "metadata": {},
     "output_type": "execute_result"
    }
   ],
   "source": [
    "df['subjects'].value_counts()"
   ]
  },
  {
   "cell_type": "code",
   "execution_count": null,
   "metadata": {},
   "outputs": [],
   "source": []
  },
  {
   "cell_type": "code",
   "execution_count": null,
   "metadata": {},
   "outputs": [],
   "source": []
  }
 ],
 "metadata": {
  "kernelspec": {
   "display_name": "Python 3",
   "language": "python",
   "name": "python3"
  },
  "language_info": {
   "codemirror_mode": {
    "name": "ipython",
    "version": 3
   },
   "file_extension": ".py",
   "mimetype": "text/x-python",
   "name": "python",
   "nbconvert_exporter": "python",
   "pygments_lexer": "ipython3",
   "version": "3.7.3"
  }
 },
 "nbformat": 4,
 "nbformat_minor": 4
}
