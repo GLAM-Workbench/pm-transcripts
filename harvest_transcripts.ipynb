{
 "cells": [
  {
   "cell_type": "markdown",
   "metadata": {},
   "source": [
    "# Harvest transcripts\n",
    "\n",
    "Harvest all the XML transcripts from the PMs Transcripts site.\n",
    "\n",
    "If you don't want to harvest them all yourself, I've created [a repository](https://github.com/wragge/pm-transcripts) containing all the XML files, a CSV-formatted index, and aggregated text and zip files for each prime minister."
   ]
  },
  {
   "cell_type": "code",
   "execution_count": 1,
   "metadata": {},
   "outputs": [],
   "source": [
    "import requests\n",
    "from bs4 import BeautifulSoup\n",
    "import os\n",
    "from urllib.parse import urlparse\n",
    "import re\n",
    "from tqdm.auto import tqdm\n",
    "import time\n",
    "\n",
    "# This page lists all the XML files\n",
    "TRANSCRIPTS_URL = 'https://pmtranscripts.pmc.gov.au/transcripts.xml'"
   ]
  },
  {
   "cell_type": "code",
   "execution_count": 4,
   "metadata": {},
   "outputs": [
    {
     "data": {
      "application/vnd.jupyter.widget-view+json": {
       "model_id": "c6d6ddca4467422fa8a18d8837e3e914",
       "version_major": 2,
       "version_minor": 0
      },
      "text/plain": [
       "HBox(children=(IntProgress(value=0, max=22815), HTML(value='')))"
      ]
     },
     "metadata": {},
     "output_type": "display_data"
    },
    {
     "name": "stdout",
     "output_type": "stream",
     "text": [
      "\n"
     ]
    }
   ],
   "source": [
    "# Get the list of XML files\n",
    "r = requests.get(TRANSCRIPTS_URL)\n",
    "\n",
    "# Turn the XML into Soup\n",
    "soup = BeautifulSoup(r.text, 'lxml')\n",
    "\n",
    "# Get the links to all the XML files\n",
    "uris = soup.find_all('uri')\n",
    "\n",
    "# Loop through all the XML files\n",
    "# Saving each file in turn\n",
    "for uri in tqdm(uris):\n",
    "    uri = uri.string\n",
    "    uri_bits = urlparse(uri)\n",
    "    filename = os.path.basename(uri_bits.path)\n",
    "    filepath = os.path.join('transcripts', '{}.xml'.format(filename))\n",
    "    if not os.path.exists(filepath):\n",
    "        try:\n",
    "                id = re.search('transcript-(\\d+)', filename).group(1)\n",
    "                xml_url = 'https://pmtranscripts.pmc.gov.au/query?transcript=' + id\n",
    "                transcript = requests.get(xml_url)\n",
    "                transcript.encoding = 'utf-8'\n",
    "                with open(os.path.join('transcripts', '{}.xml'.format(filename)), 'wb') as xml_file:\n",
    "                    xml_file.write(transcript.text.encode('utf-8'))\n",
    "        except AttributeError:\n",
    "            pass\n",
    "        time.sleep(0.2)"
   ]
  }
 ],
 "metadata": {
  "kernelspec": {
   "display_name": "Python 3",
   "language": "python",
   "name": "python3"
  },
  "language_info": {
   "codemirror_mode": {
    "name": "ipython",
    "version": 3
   },
   "file_extension": ".py",
   "mimetype": "text/x-python",
   "name": "python",
   "nbconvert_exporter": "python",
   "pygments_lexer": "ipython3",
   "version": "3.7.3"
  }
 },
 "nbformat": 4,
 "nbformat_minor": 4
}
